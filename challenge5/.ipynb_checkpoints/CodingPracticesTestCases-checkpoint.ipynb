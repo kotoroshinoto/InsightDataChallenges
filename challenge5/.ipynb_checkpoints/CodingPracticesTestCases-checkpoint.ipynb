{
 "cells": [
  {
   "cell_type": "code",
   "execution_count": 1,
   "metadata": {
    "collapsed": true
   },
   "outputs": [],
   "source": [
    "import unittest\n",
    "import sorting"
   ]
  },
  {
   "cell_type": "code",
   "execution_count": 2,
   "metadata": {},
   "outputs": [
    {
     "name": "stderr",
     "output_type": "stream",
     "text": [
      "test_clean_input_ints (sorting.CleanAndSortTestCasesCLEAN) ... ok\n",
      "test_clean_input_mixed (sorting.CleanAndSortTestCasesCLEAN) ... ok\n",
      "test_clean_input_texts (sorting.CleanAndSortTestCasesCLEAN) ... ok\n",
      "test_one_clean_item_int (sorting.CleanAndSortTestCasesCLEAN) ... ok\n",
      "test_one_clean_item_text (sorting.CleanAndSortTestCasesCLEAN) ... ok\n",
      "test_one_clean_negative_item_int (sorting.CleanAndSortTestCasesCLEAN) ... ok\n",
      "test_dirty_input_ints (sorting.CleanAndSortTestCasesDIRTY) ... ok\n",
      "test_dirty_input_mixed (sorting.CleanAndSortTestCasesDIRTY) ... ok\n",
      "test_dirty_input_texts (sorting.CleanAndSortTestCasesDIRTY) ... ok\n",
      "test_one_dirty_item_int (sorting.CleanAndSortTestCasesDIRTY) ... ok\n",
      "test_one_dirty_item_text (sorting.CleanAndSortTestCasesDIRTY) ... ok\n",
      "test_one_dirty_negative_item_int (sorting.CleanAndSortTestCasesDIRTY) ... ok\n",
      "test_empty_input (sorting.CleanAndSortTestCasesEMPTY) ... ok\n",
      "test_word_clean_int_negative (sorting.CleaningTestCases) ... ok\n",
      "test_word_clean_int_positive (sorting.CleaningTestCases) ... ok\n",
      "test_word_clean_text (sorting.CleaningTestCases) ... ok\n",
      "\n",
      "----------------------------------------------------------------------\n",
      "Ran 16 tests in 0.029s\n",
      "\n",
      "OK\n"
     ]
    },
    {
     "data": {
      "text/plain": [
       "<unittest.main.TestProgram at 0x7f630efb8cc0>"
      ]
     },
     "execution_count": 2,
     "metadata": {},
     "output_type": "execute_result"
    }
   ],
   "source": [
    "unittest.main(module='sorting', argv=['first-arg-is-ignored'], exit=False, verbosity=2)"
   ]
  },
  {
   "cell_type": "markdown",
   "metadata": {
    "collapsed": true
   },
   "source": [
    "## Algorithm used: \n",
    "- Step 0, file IO & command line api\n",
    "    - use click module for CLI setup\n",
    "    - add --test flag option to run unit tests\n",
    "    - use str.split() with no args to separate words into a list\n",
    "- Step 1 clean words\n",
    "    - iterate over words, send to function, get new list back\n",
    "    - function iterates over chars\n",
    "        - tracks if it sees a - sign before first digit char\n",
    "        - adds a '-' back on if clean result is all digits and a '-' was found before first digit\n",
    "        - adds any alpha / digit characters back into str\n",
    "        - potential for a change in algo if needed, to split handling of ints / text,\n",
    "        but input description implied that the program only needed to be able to handle \n",
    "        alpha chars with non-digit, non-text chars and digits with non-alpha non-chars, \n",
    "        which implies that I should not have to remove digits from text. It should work to spec as written\n",
    "        - could perhaps do an inplace edit of original list\n",
    "        - if repeat inputs are common, including the same dirty patterns, memoization of inputs/outputs of the clean function would probably speed this up, at the cost of memory usage\n",
    "            - storing comparison results, or reducing inputs to a str/int pair could help as well\n",
    "- Step 2 sort list, keeping int/text locations constant\n",
    "    - another function for this\n",
    "    - create list of bool values to store int/text by location\n",
    "    - create separate lists of ints and texts\n",
    "    - sort these lists\n",
    "    - build new output list by pulling from sorted separated lists as directed by bool value list\n",
    "    - could do inplace edit on original list"
   ]
  },
  {
   "cell_type": "markdown",
   "metadata": {},
   "source": [
    "# Runtime Analysis\n",
    "- shorthand variables: \n",
    "    - c number of chars in a string\n",
    "    - C (total number of characters contained in all pre-cleaned ints and words)\n",
    "    - N number of \"words\"\n",
    "    - T number of text strings\n",
    "    - t total number of chars in text strings\n",
    "    - I number of int strings\n",
    "    - i total number of chars in int strings\n",
    "- Runtimes\n",
    "    - Cleaning a word \n",
    "        - O(c)\n",
    "    - Cleaning a list \n",
    "        - O(C) overall\n",
    "        - loop feeding cleaning function would be O(N), but cleaning is slow enough to dominate here\n",
    "    - Sorting\n",
    "        - building bool sublist: O(N)\n",
    "        - sorting text sublist: O(T log T) comparisons however comparisons take O(c1 + c2) worst case for texts, adding a pairwise combinatorial factor involving number of chars in strings and the number of comparisons\n",
    "        - sorting int sublist: O(I log I) comparisons, however since they are being converted to ints, all chars are used in the conversion to int type, adding an O(i) component\n",
    "        - combining sorted sub-lists back into resulting sorted list: O(N)"
   ]
  },
  {
   "cell_type": "markdown",
   "metadata": {},
   "source": [
    "### Alternative algorithms might use a different approach to removing undesired characters and separate the int & text strings at earlier timepoints (identifying them as such during cleaning instead, saving a bit on loop costs). \n",
    "### Different sorting algorithms could be employed, perhaps coding a more explicit natural ordering sort for the ints that doesn't require turning them into actual int types, which could then use a fail fast approach, speeding up the result by using fewer characters on average. \n",
    "### Doing list edits in-place could possibly save on allocation operations as well. Writing a custom sort algorithm that doesn't require separating the sub-lists, that is capable of sorting the different types of content inplace, given their respective locations in the list could possibly speed things up as well."
   ]
  },
  {
   "cell_type": "code",
   "execution_count": null,
   "metadata": {
    "collapsed": true
   },
   "outputs": [],
   "source": []
  }
 ],
 "metadata": {
  "kernelspec": {
   "display_name": "Python [conda env:insight_env]",
   "language": "python",
   "name": "conda-env-insight_env-py"
  },
  "language_info": {
   "codemirror_mode": {
    "name": "ipython",
    "version": 3
   },
   "file_extension": ".py",
   "mimetype": "text/x-python",
   "name": "python",
   "nbconvert_exporter": "python",
   "pygments_lexer": "ipython3",
   "version": "3.6.2"
  }
 },
 "nbformat": 4,
 "nbformat_minor": 2
}
