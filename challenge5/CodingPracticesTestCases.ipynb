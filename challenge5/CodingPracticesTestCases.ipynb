{
 "cells": [
  {
   "cell_type": "code",
   "execution_count": 1,
   "metadata": {},
   "outputs": [],
   "source": [
    "import unittest\n",
    "import sorting"
   ]
  },
  {
   "cell_type": "code",
   "execution_count": 6,
   "metadata": {},
   "outputs": [
    {
     "data": {
      "text/plain": [
       "'-1235'"
      ]
     },
     "execution_count": 6,
     "metadata": {},
     "output_type": "execute_result"
    }
   ],
   "source": [
    "sorting.clean_word('-1-&##235')"
   ]
  },
  {
   "cell_type": "code",
   "execution_count": 2,
   "metadata": {},
   "outputs": [
    {
     "name": "stderr",
     "output_type": "stream",
     "text": [
      "FFFFFFF\n",
      "======================================================================\n",
      "FAIL: test_clean_input_ints (sorting.CleandAndSortTestCases)\n",
      "----------------------------------------------------------------------\n",
      "Traceback (most recent call last):\n",
      "  File \"/home/mgooch/insightdatachallenges/challenge5/sorting.py\", line 50, in test_clean_input_ints\n",
      "    self.assertEqual(clean_and_sort(test_input), expected)\n",
      "AssertionError: None != ['-1', '1', '9', '25', '32', '100', '1000']\n",
      "\n",
      "======================================================================\n",
      "FAIL: test_clean_input_mixed (sorting.CleandAndSortTestCases)\n",
      "----------------------------------------------------------------------\n",
      "Traceback (most recent call last):\n",
      "  File \"/home/mgooch/insightdatachallenges/challenge5/sorting.py\", line 60, in test_clean_input_mixed\n",
      "    self.assertEqual(clean_and_sort(test_input), expected)\n",
      "AssertionError: None != ['12', 'bird', 'cat', '20', 'dog']\n",
      "\n",
      "======================================================================\n",
      "FAIL: test_clean_input_texts (sorting.CleandAndSortTestCases)\n",
      "----------------------------------------------------------------------\n",
      "Traceback (most recent call last):\n",
      "  File \"/home/mgooch/insightdatachallenges/challenge5/sorting.py\", line 55, in test_clean_input_texts\n",
      "    self.assertEqual(clean_and_sort(test_input), expected)\n",
      "AssertionError: None != ['apple', 'computer', 'derpasaurus', 'picnic', 'turtle', 'zebra']\n",
      "\n",
      "======================================================================\n",
      "FAIL: test_dirty_input_ints (sorting.CleandAndSortTestCases)\n",
      "----------------------------------------------------------------------\n",
      "Traceback (most recent call last):\n",
      "  File \"/home/mgooch/insightdatachallenges/challenge5/sorting.py\", line 65, in test_dirty_input_ints\n",
      "    self.assertEqual(clean_and_sort(test_input), expected)\n",
      "AssertionError: None != ['-1', '1', '9', '25', '32', '100', '1000']\n",
      "\n",
      "======================================================================\n",
      "FAIL: test_dirty_input_mixed (sorting.CleandAndSortTestCases)\n",
      "----------------------------------------------------------------------\n",
      "Traceback (most recent call last):\n",
      "  File \"/home/mgooch/insightdatachallenges/challenge5/sorting.py\", line 75, in test_dirty_input_mixed\n",
      "    self.assertEqual(clean_and_sort(test_input), expected)\n",
      "AssertionError: None != ['12', 'bird', 'cat', '20', 'dog']\n",
      "\n",
      "======================================================================\n",
      "FAIL: test_dirty_input_texts (sorting.CleandAndSortTestCases)\n",
      "----------------------------------------------------------------------\n",
      "Traceback (most recent call last):\n",
      "  File \"/home/mgooch/insightdatachallenges/challenge5/sorting.py\", line 70, in test_dirty_input_texts\n",
      "    self.assertEqual(clean_and_sort(test_input), expected)\n",
      "AssertionError: None != ['apple', 'computer', 'derpasaurus', 'picnic', 'turtle', 'zebra']\n",
      "\n",
      "======================================================================\n",
      "FAIL: test_empty_input (sorting.CleandAndSortTestCases)\n",
      "----------------------------------------------------------------------\n",
      "Traceback (most recent call last):\n",
      "  File \"/home/mgooch/insightdatachallenges/challenge5/sorting.py\", line 80, in test_empty_input\n",
      "    self.assertEqual(clean_and_sort(test_input), expected)\n",
      "AssertionError: None != []\n",
      "\n",
      "----------------------------------------------------------------------\n",
      "Ran 7 tests in 0.007s\n",
      "\n",
      "FAILED (failures=7)\n"
     ]
    },
    {
     "data": {
      "text/plain": [
       "<unittest.main.TestProgram at 0x7f242442e860>"
      ]
     },
     "execution_count": 2,
     "metadata": {},
     "output_type": "execute_result"
    }
   ],
   "source": [
    "unittest.main(module='sorting', argv=['first-arg-is-ignored'], exit=False)"
   ]
  },
  {
   "cell_type": "code",
   "execution_count": null,
   "metadata": {
    "collapsed": true
   },
   "outputs": [],
   "source": []
  }
 ],
 "metadata": {
  "kernelspec": {
   "display_name": "Python [conda env:insight_env]",
   "language": "python",
   "name": "conda-env-insight_env-py"
  },
  "language_info": {
   "codemirror_mode": {
    "name": "ipython",
    "version": 3
   },
   "file_extension": ".py",
   "mimetype": "text/x-python",
   "name": "python",
   "nbconvert_exporter": "python",
   "pygments_lexer": "ipython3",
   "version": "3.6.2"
  }
 },
 "nbformat": 4,
 "nbformat_minor": 2
}
