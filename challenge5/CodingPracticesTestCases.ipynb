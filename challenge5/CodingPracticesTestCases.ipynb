{
 "cells": [
  {
   "cell_type": "code",
   "execution_count": 1,
   "metadata": {
    "collapsed": true
   },
   "outputs": [],
   "source": [
    "import unittest\n",
    "import sorting"
   ]
  },
  {
   "cell_type": "code",
   "execution_count": 2,
   "metadata": {},
   "outputs": [
    {
     "data": {
      "text/plain": [
       "'-1235'"
      ]
     },
     "execution_count": 2,
     "metadata": {},
     "output_type": "execute_result"
    }
   ],
   "source": [
    "sorting.clean_word('-1-&##235')"
   ]
  },
  {
   "cell_type": "code",
   "execution_count": 6,
   "metadata": {},
   "outputs": [
    {
     "name": "stderr",
     "output_type": "stream",
     "text": [
      "test_clean_input_ints (sorting.CleandAndSortTestCases) ... ok\n",
      "test_clean_input_mixed (sorting.CleandAndSortTestCases) ... ok\n",
      "test_clean_input_texts (sorting.CleandAndSortTestCases) ... ok\n",
      "test_dirty_input_ints (sorting.CleandAndSortTestCases) ... ok\n",
      "test_dirty_input_mixed (sorting.CleandAndSortTestCases) ... ok\n",
      "test_dirty_input_texts (sorting.CleandAndSortTestCases) ... ok\n",
      "test_empty_input (sorting.CleandAndSortTestCases) ... ok\n",
      "test_word_clean_int_negative (sorting.CleandAndSortTestCases) ... ok\n",
      "test_word_clean_int_positive (sorting.CleandAndSortTestCases) ... ok\n",
      "test_word_clean_text (sorting.CleandAndSortTestCases) ... ok\n",
      "\n",
      "----------------------------------------------------------------------\n",
      "Ran 10 tests in 0.014s\n",
      "\n",
      "OK\n"
     ]
    },
    {
     "data": {
      "text/plain": [
       "<unittest.main.TestProgram at 0x7f59145975f8>"
      ]
     },
     "execution_count": 6,
     "metadata": {},
     "output_type": "execute_result"
    }
   ],
   "source": [
    "unittest.main(module='sorting', argv=['first-arg-is-ignored'], exit=False, verbosity=2)"
   ]
  },
  {
   "cell_type": "markdown",
   "metadata": {
    "collapsed": true
   },
   "source": [
    "## Algorithm used: \n",
    "- Step 0, file IO & command line api\n",
    "    - use click module for CLI setup, add --test flag option to run unit tests\n",
    "    - use str.split() with no args to separate words into a list\n",
    "- Step 1 clean words\n",
    "    - iterate over words, send to function, get new list back\n",
    "    - function iterates over chars\n",
    "        - tracks if it sees a - sign before first digit char\n",
    "        - adds a '-' back on if clean result is all digits and a '-' was found before first digit\n",
    "        - adds any alpha / digit characters back into str\n",
    "        - potential for a change in algo if needed, to split handling of ints / text,\n",
    "        but input description implied that the program only needed to be able to handle \n",
    "        alpha chars with non-digit, non-text chars and digits with non-alpha non-chars, \n",
    "        which implies that I should not have to remove digits from text. It should work to spec as written\n",
    "- Step 2 sort list, keeping int/text locations constant\n",
    "    - another function for this\n",
    "    - create list of bool values to store int/text by location\n",
    "    - create separate lists of ints and texts\n",
    "    - sort these lists\n",
    "    - build new output list by pulling from sorted separated lists as directed by bool value list"
   ]
  },
  {
   "cell_type": "code",
   "execution_count": null,
   "metadata": {
    "collapsed": true
   },
   "outputs": [],
   "source": []
  }
 ],
 "metadata": {
  "kernelspec": {
   "display_name": "Python [conda env:insight_env]",
   "language": "python",
   "name": "conda-env-insight_env-py"
  },
  "language_info": {
   "codemirror_mode": {
    "name": "ipython",
    "version": 3
   },
   "file_extension": ".py",
   "mimetype": "text/x-python",
   "name": "python",
   "nbconvert_exporter": "python",
   "pygments_lexer": "ipython3",
   "version": "3.6.2"
  }
 },
 "nbformat": 4,
 "nbformat_minor": 2
}
