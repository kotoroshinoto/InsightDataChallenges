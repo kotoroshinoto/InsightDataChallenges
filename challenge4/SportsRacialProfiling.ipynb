{
 "cells": [
  {
   "cell_type": "markdown",
   "metadata": {},
   "source": [
    "## Focus on exploring the data to find interesting trends, with an overarching goal of answering the following question: “Are soccer referees more likely to give red cards to dark skin toned players than light skin toned players?” Data and a description of the columns are attached.\n",
    "\n",
    "## 2012-13 European football (soccer) professional leagues"
   ]
  },
  {
   "cell_type": "markdown",
   "metadata": {},
   "source": [
    "- ## Intuitively anticipate cards behaving like a poisson distribution\n",
    "    - ### Card events will be somewhat rare in general\n",
    "    - ### Most players will not flagrantly foul constantly\n",
    "    - ### Carding behavior for any given player will only rarely be observed and penalized\n",
    "    - ### Time between carding events might be independent of time since last event.\n",
    "    - ### number of games played corresponds roughly to fixed time intervals"
   ]
  },
  {
   "cell_type": "code",
   "execution_count": 57,
   "metadata": {
    "collapsed": true
   },
   "outputs": [],
   "source": [
    "import pandas as pd\n",
    "import matplotlib.pyplot as plt\n",
    "import seaborn as sn\n",
    "import numpy as np\n",
    "import scipy as sp\n",
    "import statsmodels as sm\n",
    "from dateutil.relativedelta import relativedelta"
   ]
  },
  {
   "cell_type": "code",
   "execution_count": 20,
   "metadata": {},
   "outputs": [
    {
     "name": "stdout",
     "output_type": "stream",
     "text": [
      "(146028, 27)\n",
      "Index(['player', 'club', 'leagueCountry', 'birthday', 'height', 'weight',\n",
      "       'position', 'games', 'victories', 'ties', 'defeats', 'goals',\n",
      "       'yellowCards', 'yellowReds', 'redCards', 'photoID', 'rater1', 'rater2',\n",
      "       'refNum', 'refCountry', 'Alpha_3', 'meanIAT', 'nIAT', 'seIAT',\n",
      "       'meanExp', 'nExp', 'seExp'],\n",
      "      dtype='object')\n"
     ]
    }
   ],
   "source": [
    "midpoint_end_of_year = pd.to_datetime('2012-12-31')\n",
    "df = pd.DataFrame.from_csv('redcard.csv')\n",
    "print(df.shape)\n",
    "print(df.columns)"
   ]
  },
  {
   "cell_type": "code",
   "execution_count": 21,
   "metadata": {
    "collapsed": true
   },
   "outputs": [],
   "source": [
    "def calc_age(date2):\n",
    "    return relativedelta(midpoint_end_of_year, date2).years\n",
    "df['birthday'] = pd.to_datetime(df.birthday)\n",
    "df['Age'] = df.birthday.apply(calc_age)"
   ]
  },
  {
   "cell_type": "code",
   "execution_count": 48,
   "metadata": {},
   "outputs": [],
   "source": [
    "df['winRate'] = df.victories/df.games\n",
    "df['tieRate'] = df.ties/df.games\n",
    "df['lossRate'] = df.defeats/df.games\n",
    "df['goalRate'] = df.goals/df.games\n",
    "df['meanRating'] = (df.rater1 + df.rater2)/2\n",
    "\n",
    "\n",
    "df['totalReds'] = df.redCards + df.yellowReds\n",
    "df['totalCards'] = df.redCards + df.yellowCards\n",
    "df['totalCardsRed2'] = (df.redCards * 2) + df.yellowCards\n",
    "\n",
    "df['redCardRate'] = df.redCards / df.games\n",
    "df['yellowCardRate'] = df.yellowCards / df.games\n",
    "df['totalRedCardRate'] = df.totalReds / df.games\n",
    "df['totalCardRate'] = df.totalCards / df.games\n",
    "df['totalCardRateRed2'] = df.totalCardsRed2 / df.games\n",
    "\n",
    "df['wasYellowCarded'] = df.yellowCards > 0\n",
    "df['wasRedCarded'] = df.redCards > 0\n",
    "df['wasYellowRedCarded'] = df.yellowReds > 0\n",
    "df['wasAnyRedCarded'] = df.wasRedCarded | df.wasYellowRedCarded"
   ]
  },
  {
   "cell_type": "code",
   "execution_count": 49,
   "metadata": {},
   "outputs": [
    {
     "data": {
      "text/html": [
       "<div>\n",
       "<style>\n",
       "    .dataframe thead tr:only-child th {\n",
       "        text-align: right;\n",
       "    }\n",
       "\n",
       "    .dataframe thead th {\n",
       "        text-align: left;\n",
       "    }\n",
       "\n",
       "    .dataframe tbody tr th {\n",
       "        vertical-align: top;\n",
       "    }\n",
       "</style>\n",
       "<table border=\"1\" class=\"dataframe\">\n",
       "  <thead>\n",
       "    <tr style=\"text-align: right;\">\n",
       "      <th></th>\n",
       "      <th>games</th>\n",
       "      <th>redCards</th>\n",
       "      <th>yellowCards</th>\n",
       "      <th>yellowReds</th>\n",
       "      <th>totalCardRateRed2</th>\n",
       "      <th>totalCardRate</th>\n",
       "      <th>redCardRate</th>\n",
       "      <th>yellowCardRate</th>\n",
       "      <th>totalRedCardRate</th>\n",
       "      <th>meanRating</th>\n",
       "    </tr>\n",
       "    <tr>\n",
       "      <th>playerShort</th>\n",
       "      <th></th>\n",
       "      <th></th>\n",
       "      <th></th>\n",
       "      <th></th>\n",
       "      <th></th>\n",
       "      <th></th>\n",
       "      <th></th>\n",
       "      <th></th>\n",
       "      <th></th>\n",
       "      <th></th>\n",
       "    </tr>\n",
       "  </thead>\n",
       "  <tbody>\n",
       "    <tr>\n",
       "      <th>philipp-lahm</th>\n",
       "      <td>47</td>\n",
       "      <td>0</td>\n",
       "      <td>3</td>\n",
       "      <td>0</td>\n",
       "      <td>0.063830</td>\n",
       "      <td>0.063830</td>\n",
       "      <td>0.0</td>\n",
       "      <td>0.063830</td>\n",
       "      <td>0.0</td>\n",
       "      <td>0.250</td>\n",
       "    </tr>\n",
       "    <tr>\n",
       "      <th>bastian-schweinsteiger</th>\n",
       "      <td>46</td>\n",
       "      <td>0</td>\n",
       "      <td>7</td>\n",
       "      <td>0</td>\n",
       "      <td>0.152174</td>\n",
       "      <td>0.152174</td>\n",
       "      <td>0.0</td>\n",
       "      <td>0.152174</td>\n",
       "      <td>0.0</td>\n",
       "      <td>0.250</td>\n",
       "    </tr>\n",
       "    <tr>\n",
       "      <th>paul-scholes</th>\n",
       "      <td>44</td>\n",
       "      <td>0</td>\n",
       "      <td>8</td>\n",
       "      <td>0</td>\n",
       "      <td>0.181818</td>\n",
       "      <td>0.181818</td>\n",
       "      <td>0.0</td>\n",
       "      <td>0.181818</td>\n",
       "      <td>0.0</td>\n",
       "      <td>0.000</td>\n",
       "    </tr>\n",
       "    <tr>\n",
       "      <th>frank-lampard</th>\n",
       "      <td>44</td>\n",
       "      <td>0</td>\n",
       "      <td>4</td>\n",
       "      <td>0</td>\n",
       "      <td>0.090909</td>\n",
       "      <td>0.090909</td>\n",
       "      <td>0.0</td>\n",
       "      <td>0.090909</td>\n",
       "      <td>0.0</td>\n",
       "      <td>0.125</td>\n",
       "    </tr>\n",
       "    <tr>\n",
       "      <th>michael-carrick</th>\n",
       "      <td>42</td>\n",
       "      <td>0</td>\n",
       "      <td>6</td>\n",
       "      <td>0</td>\n",
       "      <td>0.142857</td>\n",
       "      <td>0.142857</td>\n",
       "      <td>0.0</td>\n",
       "      <td>0.142857</td>\n",
       "      <td>0.0</td>\n",
       "      <td>0.000</td>\n",
       "    </tr>\n",
       "  </tbody>\n",
       "</table>\n",
       "</div>"
      ],
      "text/plain": [
       "                        games  redCards  yellowCards  yellowReds  \\\n",
       "playerShort                                                        \n",
       "philipp-lahm               47         0            3           0   \n",
       "bastian-schweinsteiger     46         0            7           0   \n",
       "paul-scholes               44         0            8           0   \n",
       "frank-lampard              44         0            4           0   \n",
       "michael-carrick            42         0            6           0   \n",
       "\n",
       "                        totalCardRateRed2  totalCardRate  redCardRate  \\\n",
       "playerShort                                                             \n",
       "philipp-lahm                     0.063830       0.063830          0.0   \n",
       "bastian-schweinsteiger           0.152174       0.152174          0.0   \n",
       "paul-scholes                     0.181818       0.181818          0.0   \n",
       "frank-lampard                    0.090909       0.090909          0.0   \n",
       "michael-carrick                  0.142857       0.142857          0.0   \n",
       "\n",
       "                        yellowCardRate  totalRedCardRate  meanRating  \n",
       "playerShort                                                           \n",
       "philipp-lahm                  0.063830               0.0       0.250  \n",
       "bastian-schweinsteiger        0.152174               0.0       0.250  \n",
       "paul-scholes                  0.181818               0.0       0.000  \n",
       "frank-lampard                 0.090909               0.0       0.125  \n",
       "michael-carrick               0.142857               0.0       0.000  "
      ]
     },
     "execution_count": 49,
     "metadata": {},
     "output_type": "execute_result"
    }
   ],
   "source": [
    "df.sort_values(by=['games', 'totalCardRateRed2'], ascending=False)[['games', 'redCards','yellowCards','yellowReds', 'totalCardRateRed2', 'totalCardRate','redCardRate', 'yellowCardRate', 'totalRedCardRate', 'meanRating']][0:5]"
   ]
  },
  {
   "cell_type": "code",
   "execution_count": 56,
   "metadata": {},
   "outputs": [
    {
     "data": {
      "text/html": [
       "<div>\n",
       "<style>\n",
       "    .dataframe thead tr:only-child th {\n",
       "        text-align: right;\n",
       "    }\n",
       "\n",
       "    .dataframe thead th {\n",
       "        text-align: left;\n",
       "    }\n",
       "\n",
       "    .dataframe tbody tr th {\n",
       "        vertical-align: top;\n",
       "    }\n",
       "</style>\n",
       "<table border=\"1\" class=\"dataframe\">\n",
       "  <thead>\n",
       "    <tr style=\"text-align: right;\">\n",
       "      <th></th>\n",
       "      <th>games</th>\n",
       "      <th>meanRating</th>\n",
       "      <th>redCards</th>\n",
       "      <th>yellowCards</th>\n",
       "      <th>yellowReds</th>\n",
       "      <th>totalReds</th>\n",
       "      <th>wasYellowCarded</th>\n",
       "      <th>wasRedCarded</th>\n",
       "      <th>wasYellowRedCarded</th>\n",
       "      <th>wasAnyRedCarded</th>\n",
       "    </tr>\n",
       "    <tr>\n",
       "      <th>playerShort</th>\n",
       "      <th></th>\n",
       "      <th></th>\n",
       "      <th></th>\n",
       "      <th></th>\n",
       "      <th></th>\n",
       "      <th></th>\n",
       "      <th></th>\n",
       "      <th></th>\n",
       "      <th></th>\n",
       "      <th></th>\n",
       "    </tr>\n",
       "  </thead>\n",
       "  <tbody>\n",
       "    <tr>\n",
       "      <th>sergio-ramos</th>\n",
       "      <td>18</td>\n",
       "      <td>0.00</td>\n",
       "      <td>2</td>\n",
       "      <td>6</td>\n",
       "      <td>1</td>\n",
       "      <td>3</td>\n",
       "      <td>True</td>\n",
       "      <td>True</td>\n",
       "      <td>True</td>\n",
       "      <td>True</td>\n",
       "    </tr>\n",
       "    <tr>\n",
       "      <th>emmanuel-adebayor</th>\n",
       "      <td>23</td>\n",
       "      <td>1.00</td>\n",
       "      <td>2</td>\n",
       "      <td>4</td>\n",
       "      <td>1</td>\n",
       "      <td>3</td>\n",
       "      <td>True</td>\n",
       "      <td>True</td>\n",
       "      <td>True</td>\n",
       "      <td>True</td>\n",
       "    </tr>\n",
       "    <tr>\n",
       "      <th>sergio-ramos</th>\n",
       "      <td>32</td>\n",
       "      <td>0.00</td>\n",
       "      <td>1</td>\n",
       "      <td>14</td>\n",
       "      <td>2</td>\n",
       "      <td>3</td>\n",
       "      <td>True</td>\n",
       "      <td>True</td>\n",
       "      <td>True</td>\n",
       "      <td>True</td>\n",
       "    </tr>\n",
       "    <tr>\n",
       "      <th>ricardo-costa</th>\n",
       "      <td>6</td>\n",
       "      <td>0.25</td>\n",
       "      <td>0</td>\n",
       "      <td>2</td>\n",
       "      <td>3</td>\n",
       "      <td>3</td>\n",
       "      <td>True</td>\n",
       "      <td>False</td>\n",
       "      <td>True</td>\n",
       "      <td>True</td>\n",
       "    </tr>\n",
       "    <tr>\n",
       "      <th>pallardo</th>\n",
       "      <td>3</td>\n",
       "      <td>0.25</td>\n",
       "      <td>0</td>\n",
       "      <td>0</td>\n",
       "      <td>3</td>\n",
       "      <td>3</td>\n",
       "      <td>False</td>\n",
       "      <td>False</td>\n",
       "      <td>True</td>\n",
       "      <td>True</td>\n",
       "    </tr>\n",
       "  </tbody>\n",
       "</table>\n",
       "</div>"
      ],
      "text/plain": [
       "                   games  meanRating  redCards  yellowCards  yellowReds  \\\n",
       "playerShort                                                               \n",
       "sergio-ramos          18        0.00         2            6           1   \n",
       "emmanuel-adebayor     23        1.00         2            4           1   \n",
       "sergio-ramos          32        0.00         1           14           2   \n",
       "ricardo-costa          6        0.25         0            2           3   \n",
       "pallardo               3        0.25         0            0           3   \n",
       "\n",
       "                   totalReds  wasYellowCarded  wasRedCarded  \\\n",
       "playerShort                                                   \n",
       "sergio-ramos               3             True          True   \n",
       "emmanuel-adebayor          3             True          True   \n",
       "sergio-ramos               3             True          True   \n",
       "ricardo-costa              3             True         False   \n",
       "pallardo                   3            False         False   \n",
       "\n",
       "                   wasYellowRedCarded  wasAnyRedCarded  \n",
       "playerShort                                             \n",
       "sergio-ramos                     True             True  \n",
       "emmanuel-adebayor                True             True  \n",
       "sergio-ramos                     True             True  \n",
       "ricardo-costa                    True             True  \n",
       "pallardo                         True             True  "
      ]
     },
     "execution_count": 56,
     "metadata": {},
     "output_type": "execute_result"
    }
   ],
   "source": [
    "df.sort_values(by=['totalReds', 'redCards'], ascending=False)[['games', 'meanRating', 'redCards','yellowCards','yellowReds', 'totalReds', 'wasYellowCarded', 'wasRedCarded', 'wasYellowRedCarded', 'wasAnyRedCarded']][0:5]"
   ]
  },
  {
   "cell_type": "code",
   "execution_count": 15,
   "metadata": {
    "collapsed": true
   },
   "outputs": [],
   "source": [
    "# print(df.position.unique())\n",
    "# print(df.Alpha_3.unique())\n",
    "# print(df.birthday.dt.year)"
   ]
  },
  {
   "cell_type": "code",
   "execution_count": 27,
   "metadata": {},
   "outputs": [
    {
     "data": {
      "text/plain": [
       "<seaborn.axisgrid.FacetGrid at 0x7f8b37738748>"
      ]
     },
     "execution_count": 27,
     "metadata": {},
     "output_type": "execute_result"
    }
   ],
   "source": [
    "sn.lmplot(x='rater1', y='rater2', data=df)\n",
    "plt.show()"
   ]
  },
  {
   "cell_type": "code",
   "execution_count": 37,
   "metadata": {},
   "outputs": [
    {
     "data": {
      "text/plain": [
       "<matplotlib.axes._subplots.AxesSubplot at 0x7f8b3587be48>"
      ]
     },
     "execution_count": 37,
     "metadata": {},
     "output_type": "execute_result"
    }
   ],
   "source": [
    "sn.distplot(a=df.meanRating.dropna())\n",
    "plt.show()"
   ]
  },
  {
   "cell_type": "code",
   "execution_count": 46,
   "metadata": {},
   "outputs": [
    {
     "data": {
      "image/png": "[encoded data removed]",
      "text/plain": [
       "<matplotlib.figure.Figure at 0x7f8b357d13c8>"
      ]
     },
     "metadata": {},
     "output_type": "display_data"
    }
   ],
   "source": [
    "sn.lmplot(x='meanRating',y='totalCards', data=df)\n",
    "plt.show()"
   ]
  },
  {
   "cell_type": "code",
   "execution_count": 45,
   "metadata": {},
   "outputs": [
    {
     "data": {
      "image/png": "[encoded data removed]",
      "text/plain": [
       "<matplotlib.figure.Figure at 0x7f8b35e3ea20>"
      ]
     },
     "metadata": {},
     "output_type": "display_data"
    }
   ],
   "source": [
    "sn.lmplot(x='meanRating',y='totalCardsRed2', data=df)\n",
    "plt.show()"
   ]
  },
  {
   "cell_type": "code",
   "execution_count": 42,
   "metadata": {},
   "outputs": [
    {
     "data": {
      "image/png": "[encoded data removed]",
      "text/plain": [
       "<matplotlib.figure.Figure at 0x7f8b35c804e0>"
      ]
     },
     "metadata": {},
     "output_type": "display_data"
    }
   ],
   "source": [
    "sn.lmplot(x='meanRating',y='yellowCards', data=df)\n",
    "plt.show()"
   ]
  },
  {
   "cell_type": "code",
   "execution_count": 43,
   "metadata": {},
   "outputs": [
    {
     "data": {
      "image/png": "[encoded data removed]",
      "text/plain": [
       "<matplotlib.figure.Figure at 0x7f8b37631c50>"
      ]
     },
     "metadata": {},
     "output_type": "display_data"
    }
   ],
   "source": [
    "sn.lmplot(x='meanRating',y='redCards', data=df)\n",
    "plt.show()"
   ]
  },
  {
   "cell_type": "code",
   "execution_count": 44,
   "metadata": {},
   "outputs": [
    {
     "data": {
      "image/png": "[encoded data removed]",
      "text/plain": [
       "<matplotlib.figure.Figure at 0x7f8b35ccd668>"
      ]
     },
     "metadata": {},
     "output_type": "display_data"
    }
   ],
   "source": [
    "sn.lmplot(x='meanRating',y='yellowReds', data=df)\n",
    "plt.show()"
   ]
  },
  {
   "cell_type": "code",
   "execution_count": null,
   "metadata": {
    "collapsed": true
   },
   "outputs": [],
   "source": []
  }
 ],
 "metadata": {
  "kernelspec": {
   "display_name": "Python [conda env:insight_env]",
   "language": "python",
   "name": "conda-env-insight_env-py"
  },
  "language_info": {
   "codemirror_mode": {
    "name": "ipython",
    "version": 3
   },
   "file_extension": ".py",
   "mimetype": "text/x-python",
   "name": "python",
   "nbconvert_exporter": "python",
   "pygments_lexer": "ipython3",
   "version": "3.6.2"
  }
 },
 "nbformat": 4,
 "nbformat_minor": 2
}
